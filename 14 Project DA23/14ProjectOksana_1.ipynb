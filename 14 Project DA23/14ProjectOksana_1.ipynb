{
 "cells": [
  {
   "cell_type": "code",
   "execution_count": null,
   "metadata": {},
   "outputs": [],
   "source": [
    "import pandas as pd"
   ]
  },
  {
   "cell_type": "code",
   "execution_count": null,
   "metadata": {},
   "outputs": [],
   "source": [
    "mos_data_2021 = pd.read_csv('mos_data_2021.csv')\n",
    "mos_ukaz = pd.read_csv('mos_ukaz.csv')\n",
    "mos_uzemi = pd.read_csv('mos_uzemi.csv')\n",
    "\n",
    "# Perform inner joins on the dataframes to create the merged table\n",
    "krit_data_obyv = pd.merge(mos_data_2021, mos_ukaz, on='kodukaz')\n",
    "krit_data_obyv = pd.merge(krit_data_obyv, mos_uzemi, on='koduzemi')\n",
    "\n",
    "\n",
    "krit_data_obyv.to_csv('TestBase2021.csv', index=False)"
   ]
  },
  {
   "cell_type": "code",
   "execution_count": null,
   "metadata": {},
   "outputs": [],
   "source": [
    "TestBase2021 = pd.read_csv('TestBase2021.csv')\n",
    "Mapovani_Obce_Kraj = pd.read_csv('Mapovani_Obce_Kraj.csv', delimiter=';')\n",
    "Kraj_Nazev_CR = pd.read_csv('Kraj_Nazev_CR.csv', delimiter=';')\n",
    "\n",
    "krit_data_obyv = pd.merge(TestBase2021, Mapovani_Obce_Kraj, on='koduzemi')\n",
    "krit_data_obyv = pd.merge(krit_data_obyv, Kraj_Nazev_CR, on='Kod_Kraje')\n",
    "\n",
    "krit_data_obyv.to_csv('TestBase2021A.csv', index=False)"
   ]
  },
  {
   "cell_type": "code",
   "execution_count": null,
   "metadata": {},
   "outputs": [],
   "source": [
    "podnikatel = pd.read_csv('Economies_160100.csv')\n",
    "pocetobyvatel = pd.read_csv('Pocet_obyvatel.csv')\n",
    "\n",
    "krit_data_obyv = pd.merge(podnikatel, pocetobyvatel, on='koduzemi')\n",
    "krit_data_obyv.to_csv('Economies_160100.csv', index=False)"
   ]
  },
  {
   "cell_type": "code",
   "execution_count": null,
   "metadata": {},
   "outputs": [],
   "source": [
    "TestBase2021A = pd.read_csv('TestBase2021A.csv')\n",
    "podnikatel = TestBase2021A[TestBase2021A['kodukaz'] == 160100]\n",
    "# print(test)\n",
    "# podnikatel.to_csv('Economies_160100.csv', index=False)\n",
    "\n",
    "pocetobyvatel = TestBase2021A[TestBase2021A['kodukaz'] == 420101]\n",
    "p2 = pocetobyvatel.rename(columns={'hodnota': 'pocet_obyvatel'})\n",
    "p2.to_csv('Pocet_obyvatel.csv', index=False)\n",
    "\n",
    "krit_data_obyv = pd.merge(podnikatel, p2, on='koduzemi')\n",
    "krit_data_obyv['hodnota'] = pd.to_numeric(krit_data_obyv['hodnota'], errors='coerce')\n",
    "krit_data_obyv['pocet_obyvatel'] = pd.to_numeric(krit_data_obyv['pocet_obyvatel'], errors='coerce')\n",
    "krit_data_obyv['Kriter/obyv'] = krit_data_obyv['hodnota'] / krit_data_obyv['pocet_obyvatel']\n",
    "krit_data_obyv = krit_data_obyv[krit_data_obyv['pocet_obyvatel'] < 3000]\n",
    "krit_data_obyv = krit_data_obyv.sort_values(by='Kriter/obyv', ascending=False)\n",
    " \n",
    "krit_data_obyv[['rok_x', 'kodukaz_x', 'koduzemi', 'hodnota', 'nazev_x', \"okres_x\", 'Kod_Kraje_x', 'Nazev_Kraje_x', 'pocet_obyvatel', 'Kriter/obyv', 'obec_y']].to_csv('Economies_160100.csv', index=False)\n",
    "# print(merged_table.head(10))\n"
   ]
  },
  {
   "cell_type": "code",
   "execution_count": null,
   "metadata": {},
   "outputs": [],
   "source": [
    "TestBase2021A = pd.read_csv('TestBase2021A.csv')\n",
    "pocetobyvatel = TestBase2021A[TestBase2021A['kodukaz'] == 420101]\n",
    "pocetobyvatel = pocetobyvatel.rename(columns={'hodnota': 'pocet_obyvatel'})\n",
    "kodukaz_values = [160100, 400910, 400920, 410407, 200302, 401230, 141443, 250191, 250192, 250193, 250194, 250195, 111100, 111200, 401420]\n",
    "column_names = ['rok_x', 'kodukaz_x', 'koduzemi', 'hodnota', 'nazev_x', \"okres_x\", 'Kod_Kraje_x', 'Nazev_Kraje_x', 'pocet_obyvatel', 'Kriter/obyv', 'obec_y']\n",
    "for kodukaz_value in kodukaz_values:\n",
    "    krit_data = TestBase2021A[TestBase2021A['kodukaz'] == kodukaz_value]\n",
    "    print(len(krit_data))\n",
    "    if len(krit_data) == 0:\n",
    "        continue\n",
    "    krit_data_obyv = pd.merge(krit_data, pocetobyvatel, on='koduzemi')\n",
    "    \n",
    "    krit_data_obyv['hodnota'] = pd.to_numeric(krit_data_obyv['hodnota'], errors='coerce')\n",
    "    krit_data_obyv['pocet_obyvatel'] = pd.to_numeric(krit_data_obyv['pocet_obyvatel'], errors='coerce')\n",
    "    krit_data_obyv = krit_data_obyv[krit_data_obyv['pocet_obyvatel'] < 3000]\n",
    "    if len(krit_data_obyv) == 0:\n",
    "        continue\n",
    "    krit_data_obyv['Kriter/obyv'] = krit_data_obyv['hodnota'] / krit_data_obyv['pocet_obyvatel']\n",
    "        \n",
    "    # print(len(krit_data_obyv))\n",
    "    krit_data_obyv = krit_data_obyv.sort_values(by='Kriter/obyv', ascending=False)\n",
    "    krit_data_obyv[column_names].to_csv(f'Krit_{kodukaz_value}.csv', index=False)"
   ]
  }
 ],
 "metadata": {
  "language_info": {
   "name": "python"
  }
 },
 "nbformat": 4,
 "nbformat_minor": 2
}
